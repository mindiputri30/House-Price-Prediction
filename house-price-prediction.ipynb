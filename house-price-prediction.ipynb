{
 "cells": [
  {
   "cell_type": "markdown",
   "id": "37af21bb",
   "metadata": {
    "papermill": {
     "duration": 0.043777,
     "end_time": "2022-01-07T14:52:22.488178",
     "exception": false,
     "start_time": "2022-01-07T14:52:22.444401",
     "status": "completed"
    },
    "tags": []
   },
   "source": [
    "<center><h1 style=\"font-size:35px; font-family: 'Times New Roman'; letter-spacing: 0.1em;\">House Price Prediction 🏡</h1></center>"
   ]
  },
  {
   "cell_type": "markdown",
   "id": "95ebcff7",
   "metadata": {
    "papermill": {
     "duration": 0.041518,
     "end_time": "2022-01-07T14:52:22.572186",
     "exception": false,
     "start_time": "2022-01-07T14:52:22.530668",
     "status": "completed"
    },
    "tags": []
   },
   "source": [
    "<center><img src=\"https://images.unsplash.com/photo-1516156008625-3a9d6067fab5?ixlib=rb-1.2.1&ixid=MnwxMjA3fDB8MHxwaG90by1wYWdlfHx8fGVufDB8fHx8&auto=format&fit=crop&w=870&q=80\"></center>"
   ]
  },
  {
   "cell_type": "markdown",
   "id": "6874a7d8",
   "metadata": {
    "papermill": {
     "duration": 0.042066,
     "end_time": "2022-01-07T14:52:22.827026",
     "exception": false,
     "start_time": "2022-01-07T14:52:22.784960",
     "status": "completed"
    },
    "tags": []
   },
   "source": [
    "<h1 style=\"font-family: 'Times New Roman'; letter-spacing: 0.08em;\">Importing the Essential Libraries, Metrics</h1>"
   ]
  },
  {
   "cell_type": "code",
   "execution_count": 49,
   "id": "5f6d09dc",
   "metadata": {
    "_cell_guid": "b1076dfc-b9ad-4769-8c92-a6c4dae69d19",
    "_uuid": "8f2839f25d086af736a60e9eeb907d3b93b6e0e5",
    "papermill": {
     "duration": 1.598972,
     "end_time": "2022-01-07T14:52:24.469221",
     "exception": false,
     "start_time": "2022-01-07T14:52:22.870249",
     "status": "completed"
    },
    "tags": []
   },
   "outputs": [],
   "source": [
    "import numpy as np\n",
    "import pandas as pd\n",
    "import seaborn as sns\n",
    "import matplotlib.pyplot as plt\n",
    "import warnings\n",
    "warnings.filterwarnings(\"ignore\")\n",
    "\n",
    "from sklearn.model_selection import train_test_split, cross_val_score\n",
    "from sklearn.preprocessing import StandardScaler\n",
    "from sklearn.metrics import r2_score, mean_absolute_error, mean_squared_error\n",
    "\n",
    "from sklearn.linear_model import LinearRegression\n",
    "from sklearn.linear_model import Ridge\n",
    "from sklearn.linear_model import Lasso\n",
    "from sklearn.ensemble import RandomForestRegressor\n",
    "from sklearn.preprocessing import PolynomialFeatures"
   ]
  },
  {
   "cell_type": "markdown",
   "id": "e61a9667",
   "metadata": {
    "papermill": {
     "duration": 0.041668,
     "end_time": "2022-01-07T14:52:24.554273",
     "exception": false,
     "start_time": "2022-01-07T14:52:24.512605",
     "status": "completed"
    },
    "tags": []
   },
   "source": [
    "<h1 style=\"font-family: 'Times New Roman'; letter-spacing: 0.08em;\">Loading the Data</h1>"
   ]
  },
  {
   "cell_type": "code",
   "execution_count": 50,
   "id": "4e34fe16",
   "metadata": {
    "papermill": {
     "duration": 0.097778,
     "end_time": "2022-01-07T14:52:24.693909",
     "exception": false,
     "start_time": "2022-01-07T14:52:24.596131",
     "status": "completed"
    },
    "tags": []
   },
   "outputs": [],
   "source": [
    "df = pd.read_excel(\"DATA RUMAH.xlsx\")"
   ]
  },
  {
   "cell_type": "markdown",
   "id": "41fd4bbb",
   "metadata": {
    "papermill": {
     "duration": 0.042834,
     "end_time": "2022-01-07T14:52:24.780980",
     "exception": false,
     "start_time": "2022-01-07T14:52:24.738146",
     "status": "completed"
    },
    "tags": []
   },
   "source": [
    "<h1 style=\"font-family: 'Times New Roman'; letter-spacing: 0.08em;\">Exploratory Data Analysis</h1>"
   ]
  },
  {
   "cell_type": "markdown",
   "id": "04a36b0b",
   "metadata": {
    "papermill": {
     "duration": 0.044086,
     "end_time": "2022-01-07T14:52:24.867536",
     "exception": false,
     "start_time": "2022-01-07T14:52:24.823450",
     "status": "completed"
    },
    "tags": []
   },
   "source": [
    "***Taking a look at the first 5 rows of the dataset***"
   ]
  },
  {
   "cell_type": "code",
   "execution_count": 51,
   "id": "2414310c",
   "metadata": {
    "papermill": {
     "duration": 0.087441,
     "end_time": "2022-01-07T14:52:24.998345",
     "exception": false,
     "start_time": "2022-01-07T14:52:24.910904",
     "status": "completed"
    },
    "tags": []
   },
   "outputs": [
    {
     "data": {
      "text/html": [
       "<div>\n",
       "<style scoped>\n",
       "    .dataframe tbody tr th:only-of-type {\n",
       "        vertical-align: middle;\n",
       "    }\n",
       "\n",
       "    .dataframe tbody tr th {\n",
       "        vertical-align: top;\n",
       "    }\n",
       "\n",
       "    .dataframe thead th {\n",
       "        text-align: right;\n",
       "    }\n",
       "</style>\n",
       "<table border=\"1\" class=\"dataframe\">\n",
       "  <thead>\n",
       "    <tr style=\"text-align: right;\">\n",
       "      <th></th>\n",
       "      <th>NO</th>\n",
       "      <th>NAMA RUMAH</th>\n",
       "      <th>HARGA</th>\n",
       "      <th>LB</th>\n",
       "      <th>LT</th>\n",
       "      <th>KT</th>\n",
       "      <th>KM</th>\n",
       "      <th>GRS</th>\n",
       "    </tr>\n",
       "  </thead>\n",
       "  <tbody>\n",
       "    <tr>\n",
       "      <th>0</th>\n",
       "      <td>1</td>\n",
       "      <td>Rumah Murah Hook Tebet Timur, Tebet, Jakarta S...</td>\n",
       "      <td>3800000000</td>\n",
       "      <td>220</td>\n",
       "      <td>220</td>\n",
       "      <td>3</td>\n",
       "      <td>3</td>\n",
       "      <td>0</td>\n",
       "    </tr>\n",
       "    <tr>\n",
       "      <th>1</th>\n",
       "      <td>2</td>\n",
       "      <td>Rumah Modern di Tebet dekat Stasiun, Tebet, Ja...</td>\n",
       "      <td>4600000000</td>\n",
       "      <td>180</td>\n",
       "      <td>137</td>\n",
       "      <td>4</td>\n",
       "      <td>3</td>\n",
       "      <td>2</td>\n",
       "    </tr>\n",
       "    <tr>\n",
       "      <th>2</th>\n",
       "      <td>3</td>\n",
       "      <td>Rumah Mewah 2 Lantai Hanya 3 Menit Ke Tebet, T...</td>\n",
       "      <td>3000000000</td>\n",
       "      <td>267</td>\n",
       "      <td>250</td>\n",
       "      <td>4</td>\n",
       "      <td>4</td>\n",
       "      <td>4</td>\n",
       "    </tr>\n",
       "    <tr>\n",
       "      <th>3</th>\n",
       "      <td>4</td>\n",
       "      <td>Rumah Baru Tebet, Tebet, Jakarta Selatan</td>\n",
       "      <td>430000000</td>\n",
       "      <td>40</td>\n",
       "      <td>25</td>\n",
       "      <td>2</td>\n",
       "      <td>2</td>\n",
       "      <td>0</td>\n",
       "    </tr>\n",
       "    <tr>\n",
       "      <th>4</th>\n",
       "      <td>5</td>\n",
       "      <td>Rumah Bagus Tebet komp Gudang Peluru lt 350m, ...</td>\n",
       "      <td>9000000000</td>\n",
       "      <td>400</td>\n",
       "      <td>355</td>\n",
       "      <td>6</td>\n",
       "      <td>5</td>\n",
       "      <td>3</td>\n",
       "    </tr>\n",
       "    <tr>\n",
       "      <th>...</th>\n",
       "      <td>...</td>\n",
       "      <td>...</td>\n",
       "      <td>...</td>\n",
       "      <td>...</td>\n",
       "      <td>...</td>\n",
       "      <td>...</td>\n",
       "      <td>...</td>\n",
       "      <td>...</td>\n",
       "    </tr>\n",
       "    <tr>\n",
       "      <th>1005</th>\n",
       "      <td>1006</td>\n",
       "      <td>Rumah Strategis Akses Jalan 2mobil Di Menteng ...</td>\n",
       "      <td>9000000000</td>\n",
       "      <td>450</td>\n",
       "      <td>550</td>\n",
       "      <td>10</td>\n",
       "      <td>10</td>\n",
       "      <td>3</td>\n",
       "    </tr>\n",
       "    <tr>\n",
       "      <th>1006</th>\n",
       "      <td>1007</td>\n",
       "      <td>Tebet Rumah Siap Huni Jln 2 Mbl Nyaman</td>\n",
       "      <td>4000000000</td>\n",
       "      <td>160</td>\n",
       "      <td>140</td>\n",
       "      <td>4</td>\n",
       "      <td>3</td>\n",
       "      <td>2</td>\n",
       "    </tr>\n",
       "    <tr>\n",
       "      <th>1007</th>\n",
       "      <td>1008</td>\n",
       "      <td>Di Kebun Baru Rumah Terawat, Area Strategis</td>\n",
       "      <td>4000000000</td>\n",
       "      <td>139</td>\n",
       "      <td>230</td>\n",
       "      <td>4</td>\n",
       "      <td>4</td>\n",
       "      <td>1</td>\n",
       "    </tr>\n",
       "    <tr>\n",
       "      <th>1008</th>\n",
       "      <td>1009</td>\n",
       "      <td>Dijual Cepat Rumah Komp Depkeu Dr Soepomo Tebe...</td>\n",
       "      <td>19000000000</td>\n",
       "      <td>360</td>\n",
       "      <td>606</td>\n",
       "      <td>7</td>\n",
       "      <td>4</td>\n",
       "      <td>0</td>\n",
       "    </tr>\n",
       "    <tr>\n",
       "      <th>1009</th>\n",
       "      <td>1010</td>\n",
       "      <td>Dijual Rumah Kokoh Di Gudang Peluru</td>\n",
       "      <td>10500000000</td>\n",
       "      <td>420</td>\n",
       "      <td>430</td>\n",
       "      <td>7</td>\n",
       "      <td>4</td>\n",
       "      <td>2</td>\n",
       "    </tr>\n",
       "  </tbody>\n",
       "</table>\n",
       "<p>1010 rows × 8 columns</p>\n",
       "</div>"
      ],
      "text/plain": [
       "        NO                                         NAMA RUMAH        HARGA  \\\n",
       "0        1  Rumah Murah Hook Tebet Timur, Tebet, Jakarta S...   3800000000   \n",
       "1        2  Rumah Modern di Tebet dekat Stasiun, Tebet, Ja...   4600000000   \n",
       "2        3  Rumah Mewah 2 Lantai Hanya 3 Menit Ke Tebet, T...   3000000000   \n",
       "3        4           Rumah Baru Tebet, Tebet, Jakarta Selatan    430000000   \n",
       "4        5  Rumah Bagus Tebet komp Gudang Peluru lt 350m, ...   9000000000   \n",
       "...    ...                                                ...          ...   \n",
       "1005  1006  Rumah Strategis Akses Jalan 2mobil Di Menteng ...   9000000000   \n",
       "1006  1007             Tebet Rumah Siap Huni Jln 2 Mbl Nyaman   4000000000   \n",
       "1007  1008        Di Kebun Baru Rumah Terawat, Area Strategis   4000000000   \n",
       "1008  1009  Dijual Cepat Rumah Komp Depkeu Dr Soepomo Tebe...  19000000000   \n",
       "1009  1010                Dijual Rumah Kokoh Di Gudang Peluru  10500000000   \n",
       "\n",
       "       LB   LT  KT  KM  GRS  \n",
       "0     220  220   3   3    0  \n",
       "1     180  137   4   3    2  \n",
       "2     267  250   4   4    4  \n",
       "3      40   25   2   2    0  \n",
       "4     400  355   6   5    3  \n",
       "...   ...  ...  ..  ..  ...  \n",
       "1005  450  550  10  10    3  \n",
       "1006  160  140   4   3    2  \n",
       "1007  139  230   4   4    1  \n",
       "1008  360  606   7   4    0  \n",
       "1009  420  430   7   4    2  \n",
       "\n",
       "[1010 rows x 8 columns]"
      ]
     },
     "execution_count": 51,
     "metadata": {},
     "output_type": "execute_result"
    }
   ],
   "source": [
    "df"
   ]
  },
  {
   "cell_type": "markdown",
   "id": "516c7384",
   "metadata": {
    "papermill": {
     "duration": 0.042852,
     "end_time": "2022-01-07T14:52:25.085983",
     "exception": false,
     "start_time": "2022-01-07T14:52:25.043131",
     "status": "completed"
    },
    "tags": []
   },
   "source": [
    "***Checking the shape—i.e. size—of the data***"
   ]
  },
  {
   "cell_type": "code",
   "execution_count": 52,
   "id": "3a4390d8",
   "metadata": {
    "papermill": {
     "duration": 0.052437,
     "end_time": "2022-01-07T14:52:25.181575",
     "exception": false,
     "start_time": "2022-01-07T14:52:25.129138",
     "status": "completed"
    },
    "tags": []
   },
   "outputs": [
    {
     "data": {
      "text/plain": [
       "(1010, 8)"
      ]
     },
     "execution_count": 52,
     "metadata": {},
     "output_type": "execute_result"
    }
   ],
   "source": [
    "df.shape"
   ]
  },
  {
   "cell_type": "markdown",
   "id": "70695842",
   "metadata": {
    "papermill": {
     "duration": 0.043403,
     "end_time": "2022-01-07T14:52:25.268687",
     "exception": false,
     "start_time": "2022-01-07T14:52:25.225284",
     "status": "completed"
    },
    "tags": []
   },
   "source": [
    "***Learning the dtypes of columns' and how many non-null values are there in those columns***"
   ]
  },
  {
   "cell_type": "code",
   "execution_count": 53,
   "id": "7b32ae31",
   "metadata": {
    "papermill": {
     "duration": 0.084564,
     "end_time": "2022-01-07T14:52:25.396651",
     "exception": false,
     "start_time": "2022-01-07T14:52:25.312087",
     "status": "completed"
    },
    "tags": []
   },
   "outputs": [
    {
     "name": "stdout",
     "output_type": "stream",
     "text": [
      "<class 'pandas.core.frame.DataFrame'>\n",
      "RangeIndex: 1010 entries, 0 to 1009\n",
      "Data columns (total 8 columns):\n",
      " #   Column      Non-Null Count  Dtype \n",
      "---  ------      --------------  ----- \n",
      " 0   NO          1010 non-null   int64 \n",
      " 1   NAMA RUMAH  1010 non-null   object\n",
      " 2   HARGA       1010 non-null   int64 \n",
      " 3   LB          1010 non-null   int64 \n",
      " 4   LT          1010 non-null   int64 \n",
      " 5   KT          1010 non-null   int64 \n",
      " 6   KM          1010 non-null   int64 \n",
      " 7   GRS         1010 non-null   int64 \n",
      "dtypes: int64(7), object(1)\n",
      "memory usage: 63.2+ KB\n"
     ]
    }
   ],
   "source": [
    "df.info()"
   ]
  },
  {
   "cell_type": "markdown",
   "id": "236aa98a",
   "metadata": {
    "papermill": {
     "duration": 0.043514,
     "end_time": "2022-01-07T14:52:25.483769",
     "exception": false,
     "start_time": "2022-01-07T14:52:25.440255",
     "status": "completed"
    },
    "tags": []
   },
   "source": [
    "***Getting the statistical summary of dataset***"
   ]
  },
  {
   "cell_type": "code",
   "execution_count": 54,
   "id": "e9c60632",
   "metadata": {
    "papermill": {
     "duration": 0.155369,
     "end_time": "2022-01-07T14:52:25.684061",
     "exception": false,
     "start_time": "2022-01-07T14:52:25.528692",
     "status": "completed"
    },
    "tags": []
   },
   "outputs": [
    {
     "data": {
      "text/html": [
       "<div>\n",
       "<style scoped>\n",
       "    .dataframe tbody tr th:only-of-type {\n",
       "        vertical-align: middle;\n",
       "    }\n",
       "\n",
       "    .dataframe tbody tr th {\n",
       "        vertical-align: top;\n",
       "    }\n",
       "\n",
       "    .dataframe thead th {\n",
       "        text-align: right;\n",
       "    }\n",
       "</style>\n",
       "<table border=\"1\" class=\"dataframe\">\n",
       "  <thead>\n",
       "    <tr style=\"text-align: right;\">\n",
       "      <th></th>\n",
       "      <th>count</th>\n",
       "      <th>mean</th>\n",
       "      <th>std</th>\n",
       "      <th>min</th>\n",
       "      <th>25%</th>\n",
       "      <th>50%</th>\n",
       "      <th>75%</th>\n",
       "      <th>max</th>\n",
       "    </tr>\n",
       "  </thead>\n",
       "  <tbody>\n",
       "    <tr>\n",
       "      <th>NO</th>\n",
       "      <td>1010.0</td>\n",
       "      <td>5.055000e+02</td>\n",
       "      <td>2.917062e+02</td>\n",
       "      <td>1.0</td>\n",
       "      <td>2.532500e+02</td>\n",
       "      <td>5.055000e+02</td>\n",
       "      <td>7.577500e+02</td>\n",
       "      <td>1.010000e+03</td>\n",
       "    </tr>\n",
       "    <tr>\n",
       "      <th>HARGA</th>\n",
       "      <td>1010.0</td>\n",
       "      <td>7.628987e+09</td>\n",
       "      <td>7.340946e+09</td>\n",
       "      <td>430000000.0</td>\n",
       "      <td>3.262500e+09</td>\n",
       "      <td>5.000000e+09</td>\n",
       "      <td>9.000000e+09</td>\n",
       "      <td>6.500000e+10</td>\n",
       "    </tr>\n",
       "    <tr>\n",
       "      <th>LB</th>\n",
       "      <td>1010.0</td>\n",
       "      <td>2.765396e+02</td>\n",
       "      <td>1.778646e+02</td>\n",
       "      <td>40.0</td>\n",
       "      <td>1.500000e+02</td>\n",
       "      <td>2.165000e+02</td>\n",
       "      <td>3.500000e+02</td>\n",
       "      <td>1.126000e+03</td>\n",
       "    </tr>\n",
       "    <tr>\n",
       "      <th>LT</th>\n",
       "      <td>1010.0</td>\n",
       "      <td>2.374327e+02</td>\n",
       "      <td>1.799576e+02</td>\n",
       "      <td>25.0</td>\n",
       "      <td>1.300000e+02</td>\n",
       "      <td>1.650000e+02</td>\n",
       "      <td>2.900000e+02</td>\n",
       "      <td>1.400000e+03</td>\n",
       "    </tr>\n",
       "    <tr>\n",
       "      <th>KT</th>\n",
       "      <td>1010.0</td>\n",
       "      <td>4.668317e+00</td>\n",
       "      <td>1.572776e+00</td>\n",
       "      <td>2.0</td>\n",
       "      <td>4.000000e+00</td>\n",
       "      <td>4.000000e+00</td>\n",
       "      <td>5.000000e+00</td>\n",
       "      <td>1.000000e+01</td>\n",
       "    </tr>\n",
       "    <tr>\n",
       "      <th>KM</th>\n",
       "      <td>1010.0</td>\n",
       "      <td>3.607921e+00</td>\n",
       "      <td>1.420066e+00</td>\n",
       "      <td>1.0</td>\n",
       "      <td>3.000000e+00</td>\n",
       "      <td>3.000000e+00</td>\n",
       "      <td>4.000000e+00</td>\n",
       "      <td>1.000000e+01</td>\n",
       "    </tr>\n",
       "    <tr>\n",
       "      <th>GRS</th>\n",
       "      <td>1010.0</td>\n",
       "      <td>1.920792e+00</td>\n",
       "      <td>1.510998e+00</td>\n",
       "      <td>0.0</td>\n",
       "      <td>1.000000e+00</td>\n",
       "      <td>2.000000e+00</td>\n",
       "      <td>2.000000e+00</td>\n",
       "      <td>1.000000e+01</td>\n",
       "    </tr>\n",
       "  </tbody>\n",
       "</table>\n",
       "</div>"
      ],
      "text/plain": [
       "        count          mean           std          min           25%  \\\n",
       "NO     1010.0  5.055000e+02  2.917062e+02          1.0  2.532500e+02   \n",
       "HARGA  1010.0  7.628987e+09  7.340946e+09  430000000.0  3.262500e+09   \n",
       "LB     1010.0  2.765396e+02  1.778646e+02         40.0  1.500000e+02   \n",
       "LT     1010.0  2.374327e+02  1.799576e+02         25.0  1.300000e+02   \n",
       "KT     1010.0  4.668317e+00  1.572776e+00          2.0  4.000000e+00   \n",
       "KM     1010.0  3.607921e+00  1.420066e+00          1.0  3.000000e+00   \n",
       "GRS    1010.0  1.920792e+00  1.510998e+00          0.0  1.000000e+00   \n",
       "\n",
       "                50%           75%           max  \n",
       "NO     5.055000e+02  7.577500e+02  1.010000e+03  \n",
       "HARGA  5.000000e+09  9.000000e+09  6.500000e+10  \n",
       "LB     2.165000e+02  3.500000e+02  1.126000e+03  \n",
       "LT     1.650000e+02  2.900000e+02  1.400000e+03  \n",
       "KT     4.000000e+00  5.000000e+00  1.000000e+01  \n",
       "KM     3.000000e+00  4.000000e+00  1.000000e+01  \n",
       "GRS    2.000000e+00  2.000000e+00  1.000000e+01  "
      ]
     },
     "execution_count": 54,
     "metadata": {},
     "output_type": "execute_result"
    }
   ],
   "source": [
    "df.describe().T"
   ]
  },
  {
   "cell_type": "markdown",
   "id": "f6673694",
   "metadata": {
    "papermill": {
     "duration": 0.0465,
     "end_time": "2022-01-07T14:52:27.282302",
     "exception": false,
     "start_time": "2022-01-07T14:52:27.235802",
     "status": "completed"
    },
    "tags": []
   },
   "source": [
    "***Checking for the missing values***"
   ]
  },
  {
   "cell_type": "code",
   "execution_count": 55,
   "id": "b3ad493a",
   "metadata": {
    "papermill": {
     "duration": 0.064672,
     "end_time": "2022-01-07T14:52:27.394368",
     "exception": false,
     "start_time": "2022-01-07T14:52:27.329696",
     "status": "completed"
    },
    "tags": []
   },
   "outputs": [
    {
     "name": "stdout",
     "output_type": "stream",
     "text": [
      "Missing Values by Column\n",
      "------------------------------\n",
      "NO            0\n",
      "NAMA RUMAH    0\n",
      "HARGA         0\n",
      "LB            0\n",
      "LT            0\n",
      "KT            0\n",
      "KM            0\n",
      "GRS           0\n",
      "dtype: int64\n",
      "------------------------------\n",
      "TOTAL MISSING VALUES: 0\n"
     ]
    }
   ],
   "source": [
    "print(\"Missing Values by Column\")\n",
    "print(\"-\"*30)\n",
    "print(df.isna().sum())\n",
    "print(\"-\"*30)\n",
    "print(\"TOTAL MISSING VALUES:\", df.isna().sum().sum())"
   ]
  },
  {
   "cell_type": "markdown",
   "id": "c7ad83c4",
   "metadata": {
    "papermill": {
     "duration": 0.101908,
     "end_time": "2022-01-07T14:53:11.236310",
     "exception": false,
     "start_time": "2022-01-07T14:53:11.134402",
     "status": "completed"
    },
    "tags": []
   },
   "source": [
    "<h1 style=\"font-family: 'Times New Roman'; letter-spacing: 0.08em;\">X, y Split</h1>"
   ]
  },
  {
   "cell_type": "markdown",
   "id": "1f41b275",
   "metadata": {
    "papermill": {
     "duration": 0.101341,
     "end_time": "2022-01-07T14:53:11.439144",
     "exception": false,
     "start_time": "2022-01-07T14:53:11.337803",
     "status": "completed"
    },
    "tags": []
   },
   "source": [
    "***Splitting the data into X and y chunks***"
   ]
  },
  {
   "cell_type": "code",
   "execution_count": 56,
   "id": "ac825bef",
   "metadata": {
    "papermill": {
     "duration": 0.111491,
     "end_time": "2022-01-07T14:53:11.652319",
     "exception": false,
     "start_time": "2022-01-07T14:53:11.540828",
     "status": "completed"
    },
    "tags": []
   },
   "outputs": [],
   "source": [
    "X = df.drop([\"NO\", \"NAMA RUMAH\", \"HARGA\"], axis=1)\n",
    "y = df[\"HARGA\"]"
   ]
  },
  {
   "cell_type": "markdown",
   "id": "5c23c6f5",
   "metadata": {
    "papermill": {
     "duration": 0.103223,
     "end_time": "2022-01-07T14:53:12.496731",
     "exception": false,
     "start_time": "2022-01-07T14:53:12.393508",
     "status": "completed"
    },
    "tags": []
   },
   "source": [
    "<h1 style=\"font-family: 'Times New Roman'; letter-spacing: 0.08em;\">Standardizing the Data</h1>"
   ]
  },
  {
   "cell_type": "markdown",
   "id": "cd239272",
   "metadata": {
    "papermill": {
     "duration": 0.102248,
     "end_time": "2022-01-07T14:53:12.702016",
     "exception": false,
     "start_time": "2022-01-07T14:53:12.599768",
     "status": "completed"
    },
    "tags": []
   },
   "source": [
    "***Standardizing the numerical columns in X dataset. StandardScaler() adjusts the mean of the features as 0 and standard deviation of features as 1. Formula that StandardScaler() uses is as follows:***"
   ]
  },
  {
   "cell_type": "markdown",
   "id": "943897e1",
   "metadata": {
    "papermill": {
     "duration": 0.106209,
     "end_time": "2022-01-07T14:53:12.910212",
     "exception": false,
     "start_time": "2022-01-07T14:53:12.804003",
     "status": "completed"
    },
    "tags": []
   },
   "source": [
    "<center><img width=\"300px\" src=\"https://www.thoughtco.com/thmb/gItmqGd5HlnhyPIiLm1YHXOlTnw=/330x242/filters:fill(auto,1)/zscore-56a8fa785f9b58b7d0f6e87b.GIF\"></center>"
   ]
  },
  {
   "cell_type": "code",
   "execution_count": 57,
   "id": "4ab78b65",
   "metadata": {
    "papermill": {
     "duration": 0.120475,
     "end_time": "2022-01-07T14:53:13.137818",
     "exception": false,
     "start_time": "2022-01-07T14:53:13.017343",
     "status": "completed"
    },
    "tags": []
   },
   "outputs": [],
   "source": [
    "scaler = StandardScaler()\n",
    "X = scaler.fit_transform(X)"
   ]
  },
  {
   "cell_type": "code",
   "execution_count": 58,
   "id": "4ba7368d-26ab-4b1c-a0c6-959d9a7e9228",
   "metadata": {},
   "outputs": [
    {
     "data": {
      "text/plain": [
       "array([[-0.31803759, -0.09691899, -1.06127231, -0.42830543, -1.27183723],\n",
       "       [-0.54303923, -0.55836723, -0.42513876, -0.42830543,  0.0524469 ],\n",
       "       [-0.05366066,  0.06986953, -0.42513876,  0.27623608,  1.37673103],\n",
       "       ...,\n",
       "       [-0.7736659 , -0.04132282, -0.42513876,  0.27623608, -0.60969517],\n",
       "       [ 0.46946815,  2.0490933 ,  1.4832619 ,  0.27623608, -1.27183723],\n",
       "       [ 0.8069706 ,  1.07060065,  1.4832619 ,  0.27623608,  0.0524469 ]])"
      ]
     },
     "execution_count": 58,
     "metadata": {},
     "output_type": "execute_result"
    }
   ],
   "source": [
    "X"
   ]
  },
  {
   "cell_type": "code",
   "execution_count": 59,
   "id": "a923730f-2cd0-40ae-86fe-a20b9707d5e8",
   "metadata": {},
   "outputs": [
    {
     "data": {
      "text/html": [
       "<div>\n",
       "<style scoped>\n",
       "    .dataframe tbody tr th:only-of-type {\n",
       "        vertical-align: middle;\n",
       "    }\n",
       "\n",
       "    .dataframe tbody tr th {\n",
       "        vertical-align: top;\n",
       "    }\n",
       "\n",
       "    .dataframe thead th {\n",
       "        text-align: right;\n",
       "    }\n",
       "</style>\n",
       "<table border=\"1\" class=\"dataframe\">\n",
       "  <thead>\n",
       "    <tr style=\"text-align: right;\">\n",
       "      <th></th>\n",
       "      <th>LB</th>\n",
       "      <th>LT</th>\n",
       "      <th>KT</th>\n",
       "      <th>KM</th>\n",
       "      <th>GRS</th>\n",
       "    </tr>\n",
       "  </thead>\n",
       "  <tbody>\n",
       "    <tr>\n",
       "      <th>0</th>\n",
       "      <td>-0.318038</td>\n",
       "      <td>-0.096919</td>\n",
       "      <td>-1.061272</td>\n",
       "      <td>-0.428305</td>\n",
       "      <td>-1.271837</td>\n",
       "    </tr>\n",
       "    <tr>\n",
       "      <th>1</th>\n",
       "      <td>-0.543039</td>\n",
       "      <td>-0.558367</td>\n",
       "      <td>-0.425139</td>\n",
       "      <td>-0.428305</td>\n",
       "      <td>0.052447</td>\n",
       "    </tr>\n",
       "    <tr>\n",
       "      <th>2</th>\n",
       "      <td>-0.053661</td>\n",
       "      <td>0.069870</td>\n",
       "      <td>-0.425139</td>\n",
       "      <td>0.276236</td>\n",
       "      <td>1.376731</td>\n",
       "    </tr>\n",
       "    <tr>\n",
       "      <th>3</th>\n",
       "      <td>-1.330545</td>\n",
       "      <td>-1.181044</td>\n",
       "      <td>-1.697406</td>\n",
       "      <td>-1.132847</td>\n",
       "      <td>-1.271837</td>\n",
       "    </tr>\n",
       "    <tr>\n",
       "      <th>4</th>\n",
       "      <td>0.694470</td>\n",
       "      <td>0.653629</td>\n",
       "      <td>0.847128</td>\n",
       "      <td>0.980778</td>\n",
       "      <td>0.714589</td>\n",
       "    </tr>\n",
       "    <tr>\n",
       "      <th>...</th>\n",
       "      <td>...</td>\n",
       "      <td>...</td>\n",
       "      <td>...</td>\n",
       "      <td>...</td>\n",
       "      <td>...</td>\n",
       "    </tr>\n",
       "    <tr>\n",
       "      <th>1005</th>\n",
       "      <td>0.975722</td>\n",
       "      <td>1.737755</td>\n",
       "      <td>3.391663</td>\n",
       "      <td>4.503485</td>\n",
       "      <td>0.714589</td>\n",
       "    </tr>\n",
       "    <tr>\n",
       "      <th>1006</th>\n",
       "      <td>-0.655540</td>\n",
       "      <td>-0.541688</td>\n",
       "      <td>-0.425139</td>\n",
       "      <td>-0.428305</td>\n",
       "      <td>0.052447</td>\n",
       "    </tr>\n",
       "    <tr>\n",
       "      <th>1007</th>\n",
       "      <td>-0.773666</td>\n",
       "      <td>-0.041323</td>\n",
       "      <td>-0.425139</td>\n",
       "      <td>0.276236</td>\n",
       "      <td>-0.609695</td>\n",
       "    </tr>\n",
       "    <tr>\n",
       "      <th>1008</th>\n",
       "      <td>0.469468</td>\n",
       "      <td>2.049093</td>\n",
       "      <td>1.483262</td>\n",
       "      <td>0.276236</td>\n",
       "      <td>-1.271837</td>\n",
       "    </tr>\n",
       "    <tr>\n",
       "      <th>1009</th>\n",
       "      <td>0.806971</td>\n",
       "      <td>1.070601</td>\n",
       "      <td>1.483262</td>\n",
       "      <td>0.276236</td>\n",
       "      <td>0.052447</td>\n",
       "    </tr>\n",
       "  </tbody>\n",
       "</table>\n",
       "<p>1010 rows × 5 columns</p>\n",
       "</div>"
      ],
      "text/plain": [
       "            LB        LT        KT        KM       GRS\n",
       "0    -0.318038 -0.096919 -1.061272 -0.428305 -1.271837\n",
       "1    -0.543039 -0.558367 -0.425139 -0.428305  0.052447\n",
       "2    -0.053661  0.069870 -0.425139  0.276236  1.376731\n",
       "3    -1.330545 -1.181044 -1.697406 -1.132847 -1.271837\n",
       "4     0.694470  0.653629  0.847128  0.980778  0.714589\n",
       "...        ...       ...       ...       ...       ...\n",
       "1005  0.975722  1.737755  3.391663  4.503485  0.714589\n",
       "1006 -0.655540 -0.541688 -0.425139 -0.428305  0.052447\n",
       "1007 -0.773666 -0.041323 -0.425139  0.276236 -0.609695\n",
       "1008  0.469468  2.049093  1.483262  0.276236 -1.271837\n",
       "1009  0.806971  1.070601  1.483262  0.276236  0.052447\n",
       "\n",
       "[1010 rows x 5 columns]"
      ]
     },
     "execution_count": 59,
     "metadata": {},
     "output_type": "execute_result"
    }
   ],
   "source": [
    "X_df = pd.DataFrame(X)\n",
    "\n",
    "X_df.columns = ['LB', 'LT', 'KT', 'KM', 'GRS']\n",
    "X_df"
   ]
  },
  {
   "cell_type": "markdown",
   "id": "cbb4c637",
   "metadata": {
    "papermill": {
     "duration": 0.10743,
     "end_time": "2022-01-07T14:53:13.812158",
     "exception": false,
     "start_time": "2022-01-07T14:53:13.704728",
     "status": "completed"
    },
    "tags": []
   },
   "source": [
    "<h1 style=\"font-family: 'Times New Roman'; letter-spacing: 0.08em;\">Train-Test Split</h1>"
   ]
  },
  {
   "cell_type": "code",
   "execution_count": 60,
   "id": "a7fb6519",
   "metadata": {
    "papermill": {
     "duration": 0.117592,
     "end_time": "2022-01-07T14:53:14.246227",
     "exception": false,
     "start_time": "2022-01-07T14:53:14.128635",
     "status": "completed"
    },
    "tags": []
   },
   "outputs": [],
   "source": [
    "X_train, X_test, y_train, y_test = train_test_split(X, y, test_size=0.2, random_state=42)"
   ]
  },
  {
   "cell_type": "markdown",
   "id": "cbadb641",
   "metadata": {
    "papermill": {
     "duration": 0.10377,
     "end_time": "2022-01-07T14:53:14.453616",
     "exception": false,
     "start_time": "2022-01-07T14:53:14.349846",
     "status": "completed"
    },
    "tags": []
   },
   "source": [
    "***Defining several evaluation functions for convenience***"
   ]
  },
  {
   "cell_type": "code",
   "execution_count": 61,
   "id": "c670aec2",
   "metadata": {
    "papermill": {
     "duration": 0.115217,
     "end_time": "2022-01-07T14:53:14.672327",
     "exception": false,
     "start_time": "2022-01-07T14:53:14.557110",
     "status": "completed"
    },
    "tags": []
   },
   "outputs": [],
   "source": [
    "def rmse_cv(model):\n",
    "    rmse = np.sqrt(-cross_val_score(model, X, y, scoring=\"neg_mean_squared_error\", cv=5)).mean()\n",
    "    return rmse\n",
    "    \n",
    "\n",
    "def evaluation(y, predictions):\n",
    "    rmse = round(np.sqrt(mean_squared_error(y, predictions)), 2)\n",
    "    r_squared = round(r2_score(y, predictions), 4)\n",
    "    return rmse, r_squared"
   ]
  },
  {
   "cell_type": "markdown",
   "id": "af18ea59",
   "metadata": {
    "papermill": {
     "duration": 0.103812,
     "end_time": "2022-01-07T14:53:14.880559",
     "exception": false,
     "start_time": "2022-01-07T14:53:14.776747",
     "status": "completed"
    },
    "tags": []
   },
   "source": [
    "<h1 style=\"font-family: 'Times New Roman'; letter-spacing: 0.08em;\">Machine Learning Models</h1>"
   ]
  },
  {
   "cell_type": "code",
   "execution_count": 62,
   "id": "715304cf",
   "metadata": {
    "papermill": {
     "duration": 0.118597,
     "end_time": "2022-01-07T14:53:15.107485",
     "exception": false,
     "start_time": "2022-01-07T14:53:14.988888",
     "status": "completed"
    },
    "tags": []
   },
   "outputs": [],
   "source": [
    "models = pd.DataFrame(columns=[\"Model\",\"RMSE\",\"R2 Score\",\"RMSE (Cross-Validation)\"])"
   ]
  },
  {
   "cell_type": "markdown",
   "id": "ae0194fa",
   "metadata": {
    "papermill": {
     "duration": 0.108867,
     "end_time": "2022-01-07T14:53:15.322909",
     "exception": false,
     "start_time": "2022-01-07T14:53:15.214042",
     "status": "completed"
    },
    "tags": []
   },
   "source": [
    "<h2 style=\"font-family: 'Times New Roman'; letter-spacing: 0.05em;\">Linear Regression</h2>"
   ]
  },
  {
   "cell_type": "code",
   "execution_count": 63,
   "id": "e3958e72",
   "metadata": {
    "papermill": {
     "duration": 0.203309,
     "end_time": "2022-01-07T14:53:15.634247",
     "exception": false,
     "start_time": "2022-01-07T14:53:15.430938",
     "status": "completed"
    },
    "tags": []
   },
   "outputs": [
    {
     "name": "stdout",
     "output_type": "stream",
     "text": [
      "RMSE: 3267373421.28\n",
      "R2 Score: 0.7713\n",
      "------------------------------\n",
      "RMSE Cross-Validation: 3957264058.398346\n"
     ]
    }
   ],
   "source": [
    "lin_reg = LinearRegression()\n",
    "lin_reg.fit(X_train, y_train)\n",
    "predictions = lin_reg.predict(X_test)\n",
    "\n",
    "rmse, r_squared = evaluation(y_test, predictions)\n",
    "print(\"RMSE:\", rmse)\n",
    "print(\"R2 Score:\", r_squared)\n",
    "print(\"-\"*30)\n",
    "rmse_cross_val = rmse_cv(lin_reg)\n",
    "print(\"RMSE Cross-Validation:\", rmse_cross_val)\n",
    "\n",
    "new_row = {\"Model\": \"MultipleLinearRegression\",\"RMSE\": rmse, \"R2 Score\": r_squared, \"RMSE (Cross-Validation)\": rmse_cross_val}\n",
    "models = models.append(new_row, ignore_index=True)"
   ]
  },
  {
   "cell_type": "markdown",
   "id": "69e2cf24",
   "metadata": {
    "papermill": {
     "duration": 0.108289,
     "end_time": "2022-01-07T14:53:15.904370",
     "exception": false,
     "start_time": "2022-01-07T14:53:15.796081",
     "status": "completed"
    },
    "tags": []
   },
   "source": [
    "<h2 style=\"font-family: 'Times New Roman'; letter-spacing: 0.05em;\">Ridge Regression</h2>"
   ]
  },
  {
   "cell_type": "code",
   "execution_count": 64,
   "id": "a0095af1",
   "metadata": {
    "papermill": {
     "duration": 0.192599,
     "end_time": "2022-01-07T14:53:16.203172",
     "exception": false,
     "start_time": "2022-01-07T14:53:16.010573",
     "status": "completed"
    },
    "tags": []
   },
   "outputs": [
    {
     "name": "stdout",
     "output_type": "stream",
     "text": [
      "RMSE: 3267705894.93\n",
      "R2 Score: 0.7713\n",
      "------------------------------\n",
      "RMSE Cross-Validation: 3956824563.777631\n"
     ]
    }
   ],
   "source": [
    "ridge = Ridge()\n",
    "ridge.fit(X_train, y_train)\n",
    "predictions = ridge.predict(X_test)\n",
    "\n",
    "rmse, r_squared = evaluation(y_test, predictions)\n",
    "print(\"RMSE:\", rmse)\n",
    "print(\"R2 Score:\", r_squared)\n",
    "print(\"-\"*30)\n",
    "rmse_cross_val = rmse_cv(ridge)\n",
    "print(\"RMSE Cross-Validation:\", rmse_cross_val)\n",
    "\n",
    "new_row = {\"Model\": \"Ridge\", \"RMSE\": rmse, \"R2 Score\": r_squared, \"RMSE (Cross-Validation)\": rmse_cross_val}\n",
    "models = models.append(new_row, ignore_index=True)"
   ]
  },
  {
   "cell_type": "markdown",
   "id": "b61ddb50",
   "metadata": {
    "papermill": {
     "duration": 0.103788,
     "end_time": "2022-01-07T14:53:16.470822",
     "exception": false,
     "start_time": "2022-01-07T14:53:16.367034",
     "status": "completed"
    },
    "tags": []
   },
   "source": [
    "<h2 style=\"font-family: 'Times New Roman'; letter-spacing: 0.05em;\">Lasso Regression</h2>"
   ]
  },
  {
   "cell_type": "code",
   "execution_count": 65,
   "id": "b1d9c1e2",
   "metadata": {
    "papermill": {
     "duration": 0.383321,
     "end_time": "2022-01-07T14:53:16.989364",
     "exception": false,
     "start_time": "2022-01-07T14:53:16.606043",
     "status": "completed"
    },
    "tags": []
   },
   "outputs": [
    {
     "name": "stdout",
     "output_type": "stream",
     "text": [
      "RMSE: 3267373421.26\n",
      "R2 Score: 0.7713\n",
      "------------------------------\n",
      "RMSE Cross-Validation: 3957264058.344419\n"
     ]
    }
   ],
   "source": [
    "lasso = Lasso()\n",
    "lasso.fit(X_train, y_train)\n",
    "predictions = lasso.predict(X_test)\n",
    "\n",
    "rmse, r_squared = evaluation(y_test, predictions)\n",
    "print(\"RMSE:\", rmse)\n",
    "print(\"R2 Score:\", r_squared)\n",
    "print(\"-\"*30)\n",
    "rmse_cross_val = rmse_cv(lasso)\n",
    "print(\"RMSE Cross-Validation:\", rmse_cross_val)\n",
    "\n",
    "new_row = {\"Model\": \"Lasso\", \"RMSE\": rmse, \"R2 Score\": r_squared, \"RMSE (Cross-Validation)\": rmse_cross_val}\n",
    "models = models.append(new_row, ignore_index=True)"
   ]
  },
  {
   "cell_type": "markdown",
   "id": "948891cb",
   "metadata": {
    "papermill": {
     "duration": 0.108617,
     "end_time": "2022-01-07T14:53:20.300130",
     "exception": false,
     "start_time": "2022-01-07T14:53:20.191513",
     "status": "completed"
    },
    "tags": []
   },
   "source": [
    "<h2 style=\"font-family: 'Times New Roman'; letter-spacing: 0.05em;\">Random Forest Regressor</h2>"
   ]
  },
  {
   "cell_type": "code",
   "execution_count": 66,
   "id": "241cd041",
   "metadata": {
    "papermill": {
     "duration": 5.233481,
     "end_time": "2022-01-07T14:53:25.642200",
     "exception": false,
     "start_time": "2022-01-07T14:53:20.408719",
     "status": "completed"
    },
    "tags": []
   },
   "outputs": [
    {
     "name": "stdout",
     "output_type": "stream",
     "text": [
      "RMSE: 3195854665.78\n",
      "R2 Score: 0.7812\n",
      "------------------------------\n",
      "RMSE Cross-Validation: 3876984555.651829\n"
     ]
    }
   ],
   "source": [
    "random_forest = RandomForestRegressor(n_estimators=100)\n",
    "random_forest.fit(X_train, y_train)\n",
    "predictions = random_forest.predict(X_test)\n",
    "\n",
    "rmse, r_squared = evaluation(y_test, predictions)\n",
    "print(\"RMSE:\", rmse)\n",
    "print(\"R2 Score:\", r_squared)\n",
    "print(\"-\"*30)\n",
    "rmse_cross_val = rmse_cv(random_forest)\n",
    "print(\"RMSE Cross-Validation:\", rmse_cross_val)\n",
    "\n",
    "new_row = {\"Model\": \"RandomForestRegressor\", \"RMSE\": rmse, \"R2 Score\": r_squared, \"RMSE (Cross-Validation)\": rmse_cross_val}\n",
    "models = models.append(new_row, ignore_index=True)"
   ]
  },
  {
   "cell_type": "markdown",
   "id": "01268a36",
   "metadata": {
    "papermill": {
     "duration": 0.111065,
     "end_time": "2022-01-07T14:53:55.032337",
     "exception": false,
     "start_time": "2022-01-07T14:53:54.921272",
     "status": "completed"
    },
    "tags": []
   },
   "source": [
    "<h2 style=\"font-family: 'Times New Roman'; letter-spacing: 0.05em;\">Polynomial Regression (Degree=2)</h2>"
   ]
  },
  {
   "cell_type": "code",
   "execution_count": 67,
   "id": "60f64143",
   "metadata": {
    "papermill": {
     "duration": 0.563133,
     "end_time": "2022-01-07T14:53:55.705916",
     "exception": false,
     "start_time": "2022-01-07T14:53:55.142783",
     "status": "completed"
    },
    "tags": []
   },
   "outputs": [
    {
     "name": "stdout",
     "output_type": "stream",
     "text": [
      "RMSE: 3309899671.48\n",
      "R2 Score: 0.7653\n",
      "------------------------------\n",
      "RMSE Cross-Validation: 3957264058.398346\n"
     ]
    }
   ],
   "source": [
    "poly_reg = PolynomialFeatures(degree=2)\n",
    "X_train_2d = poly_reg.fit_transform(X_train)\n",
    "X_test_2d = poly_reg.transform(X_test)\n",
    "\n",
    "lin_reg = LinearRegression()\n",
    "lin_reg.fit(X_train_2d, y_train)\n",
    "predictions = lin_reg.predict(X_test_2d)\n",
    "\n",
    "rmse, r_squared = evaluation(y_test, predictions)\n",
    "print(\"RMSE:\", rmse)\n",
    "print(\"R2 Score:\", r_squared)\n",
    "print(\"-\"*30)\n",
    "rmse_cross_val = rmse_cv(lin_reg)\n",
    "print(\"RMSE Cross-Validation:\", rmse_cross_val)\n",
    "\n",
    "new_row = {\"Model\": \"Polynomial Regression (degree=2)\", \"RMSE\": rmse, \"R2 Score\": r_squared, \"RMSE (Cross-Validation)\": rmse_cross_val}\n",
    "models = models.append(new_row, ignore_index=True)"
   ]
  },
  {
   "cell_type": "markdown",
   "id": "95a4f5b1",
   "metadata": {
    "papermill": {
     "duration": 0.110909,
     "end_time": "2022-01-07T14:53:55.982058",
     "exception": false,
     "start_time": "2022-01-07T14:53:55.871149",
     "status": "completed"
    },
    "tags": []
   },
   "source": [
    "<h1 style=\"font-family: 'Times New Roman'; letter-spacing: 0.08em;\">Model Comparison</h1>"
   ]
  },
  {
   "cell_type": "markdown",
   "id": "5d3d9d60",
   "metadata": {
    "papermill": {
     "duration": 0.109875,
     "end_time": "2022-01-07T14:53:56.205726",
     "exception": false,
     "start_time": "2022-01-07T14:53:56.095851",
     "status": "completed"
    },
    "tags": []
   },
   "source": [
    "***The less the Root Mean Squared Error (RMSE), The better the model is.***"
   ]
  },
  {
   "cell_type": "code",
   "execution_count": 68,
   "id": "da432aa2",
   "metadata": {
    "papermill": {
     "duration": 0.129669,
     "end_time": "2022-01-07T14:53:56.445518",
     "exception": false,
     "start_time": "2022-01-07T14:53:56.315849",
     "status": "completed"
    },
    "tags": []
   },
   "outputs": [
    {
     "data": {
      "text/html": [
       "<div>\n",
       "<style scoped>\n",
       "    .dataframe tbody tr th:only-of-type {\n",
       "        vertical-align: middle;\n",
       "    }\n",
       "\n",
       "    .dataframe tbody tr th {\n",
       "        vertical-align: top;\n",
       "    }\n",
       "\n",
       "    .dataframe thead th {\n",
       "        text-align: right;\n",
       "    }\n",
       "</style>\n",
       "<table border=\"1\" class=\"dataframe\">\n",
       "  <thead>\n",
       "    <tr style=\"text-align: right;\">\n",
       "      <th></th>\n",
       "      <th>Model</th>\n",
       "      <th>RMSE</th>\n",
       "      <th>R2 Score</th>\n",
       "      <th>RMSE (Cross-Validation)</th>\n",
       "    </tr>\n",
       "  </thead>\n",
       "  <tbody>\n",
       "    <tr>\n",
       "      <th>3</th>\n",
       "      <td>RandomForestRegressor</td>\n",
       "      <td>3.195855e+09</td>\n",
       "      <td>0.7812</td>\n",
       "      <td>3.876985e+09</td>\n",
       "    </tr>\n",
       "    <tr>\n",
       "      <th>1</th>\n",
       "      <td>Ridge</td>\n",
       "      <td>3.267706e+09</td>\n",
       "      <td>0.7713</td>\n",
       "      <td>3.956825e+09</td>\n",
       "    </tr>\n",
       "    <tr>\n",
       "      <th>2</th>\n",
       "      <td>Lasso</td>\n",
       "      <td>3.267373e+09</td>\n",
       "      <td>0.7713</td>\n",
       "      <td>3.957264e+09</td>\n",
       "    </tr>\n",
       "    <tr>\n",
       "      <th>0</th>\n",
       "      <td>MultipleLinearRegression</td>\n",
       "      <td>3.267373e+09</td>\n",
       "      <td>0.7713</td>\n",
       "      <td>3.957264e+09</td>\n",
       "    </tr>\n",
       "    <tr>\n",
       "      <th>4</th>\n",
       "      <td>Polynomial Regression (degree=2)</td>\n",
       "      <td>3.309900e+09</td>\n",
       "      <td>0.7653</td>\n",
       "      <td>3.957264e+09</td>\n",
       "    </tr>\n",
       "  </tbody>\n",
       "</table>\n",
       "</div>"
      ],
      "text/plain": [
       "                              Model          RMSE  R2 Score  \\\n",
       "3             RandomForestRegressor  3.195855e+09    0.7812   \n",
       "1                             Ridge  3.267706e+09    0.7713   \n",
       "2                             Lasso  3.267373e+09    0.7713   \n",
       "0          MultipleLinearRegression  3.267373e+09    0.7713   \n",
       "4  Polynomial Regression (degree=2)  3.309900e+09    0.7653   \n",
       "\n",
       "   RMSE (Cross-Validation)  \n",
       "3             3.876985e+09  \n",
       "1             3.956825e+09  \n",
       "2             3.957264e+09  \n",
       "0             3.957264e+09  \n",
       "4             3.957264e+09  "
      ]
     },
     "execution_count": 68,
     "metadata": {},
     "output_type": "execute_result"
    }
   ],
   "source": [
    "models.sort_values(by=\"RMSE (Cross-Validation)\")"
   ]
  },
  {
   "cell_type": "code",
   "execution_count": 73,
   "id": "05d6b92f",
   "metadata": {
    "papermill": {
     "duration": 0.345524,
     "end_time": "2022-01-07T14:53:56.902762",
     "exception": false,
     "start_time": "2022-01-07T14:53:56.557238",
     "status": "completed"
    },
    "tags": []
   },
   "outputs": [
    {
     "data": {
      "image/png": "[encoded data removed]",
      "text/plain": [
       "<Figure size 864x576 with 1 Axes>"
      ]
     },
     "metadata": {
      "needs_background": "light"
     },
     "output_type": "display_data"
    }
   ],
   "source": [
    "plt.figure(figsize=(12,8))\n",
    "sns.lineplot(data= models, x=\"Model\", y=\"RMSE (Cross-Validation)\")\n",
    "plt.title(\"Models' RMSE Scores (Cross-Validated)\", size=20)\n",
    "plt.xticks(rotation=30, size=15)\n",
    "plt.yticks(rotation=30, size=15)\n",
    "plt.show()"
   ]
  },
  {
   "cell_type": "code",
   "execution_count": 76,
   "id": "6443f7b5-c77f-4ef3-8fc0-139b5abf53fb",
   "metadata": {},
   "outputs": [
    {
     "data": {
      "image/png": "[encoded data removed]",
      "text/plain": [
       "<Figure size 864x576 with 1 Axes>"
      ]
     },
     "metadata": {
      "needs_background": "light"
     },
     "output_type": "display_data"
    }
   ],
   "source": [
    "plt.figure(figsize=(12,8))\n",
    "sns.lineplot(x=models[\"Model\"], y=models[\"RMSE\"])\n",
    "plt.title(\"Models' RMSE Scores\", size=15)\n",
    "plt.xticks(rotation=30, size=15)\n",
    "plt.yticks(rotation=30, size=15)\n",
    "plt.show()"
   ]
  },
  {
   "cell_type": "code",
   "execution_count": 75,
   "id": "bd7205a8-5a47-4dcf-81c5-61e9482e503e",
   "metadata": {},
   "outputs": [
    {
     "data": {
      "image/png": "[encoded data removed]",
      "text/plain": [
       "<Figure size 864x576 with 1 Axes>"
      ]
     },
     "metadata": {
      "needs_background": "light"
     },
     "output_type": "display_data"
    }
   ],
   "source": [
    "plt.figure(figsize=(12,8))\n",
    "sns.lineplot(x=models[\"Model\"], y=models[\"R2 Score\"])\n",
    "plt.title(\"Models' R2 Scores\", size=15)\n",
    "plt.xticks(rotation=30, size=15)\n",
    "plt.yticks(rotation=30, size=15)\n",
    "plt.show()"
   ]
  },
  {
   "cell_type": "code",
   "execution_count": 72,
   "id": "c94b0430-b2f0-4264-b68a-ee005c042536",
   "metadata": {},
   "outputs": [
    {
     "data": {
      "text/html": [
       "<div>\n",
       "<style scoped>\n",
       "    .dataframe tbody tr th:only-of-type {\n",
       "        vertical-align: middle;\n",
       "    }\n",
       "\n",
       "    .dataframe tbody tr th {\n",
       "        vertical-align: top;\n",
       "    }\n",
       "\n",
       "    .dataframe thead th {\n",
       "        text-align: right;\n",
       "    }\n",
       "</style>\n",
       "<table border=\"1\" class=\"dataframe\">\n",
       "  <thead>\n",
       "    <tr style=\"text-align: right;\">\n",
       "      <th></th>\n",
       "      <th>Model</th>\n",
       "      <th>RMSE</th>\n",
       "      <th>R2 Score</th>\n",
       "      <th>RMSE (Cross-Validation)</th>\n",
       "    </tr>\n",
       "  </thead>\n",
       "  <tbody>\n",
       "    <tr>\n",
       "      <th>0</th>\n",
       "      <td>MultipleLinearRegression</td>\n",
       "      <td>3.267373e+09</td>\n",
       "      <td>0.7713</td>\n",
       "      <td>3.957264e+09</td>\n",
       "    </tr>\n",
       "    <tr>\n",
       "      <th>1</th>\n",
       "      <td>Ridge</td>\n",
       "      <td>3.267706e+09</td>\n",
       "      <td>0.7713</td>\n",
       "      <td>3.956825e+09</td>\n",
       "    </tr>\n",
       "    <tr>\n",
       "      <th>2</th>\n",
       "      <td>Lasso</td>\n",
       "      <td>3.267373e+09</td>\n",
       "      <td>0.7713</td>\n",
       "      <td>3.957264e+09</td>\n",
       "    </tr>\n",
       "    <tr>\n",
       "      <th>3</th>\n",
       "      <td>RandomForestRegressor</td>\n",
       "      <td>3.195855e+09</td>\n",
       "      <td>0.7812</td>\n",
       "      <td>3.876985e+09</td>\n",
       "    </tr>\n",
       "    <tr>\n",
       "      <th>4</th>\n",
       "      <td>Polynomial Regression (degree=2)</td>\n",
       "      <td>3.309900e+09</td>\n",
       "      <td>0.7653</td>\n",
       "      <td>3.957264e+09</td>\n",
       "    </tr>\n",
       "  </tbody>\n",
       "</table>\n",
       "</div>"
      ],
      "text/plain": [
       "                              Model          RMSE  R2 Score  \\\n",
       "0          MultipleLinearRegression  3.267373e+09    0.7713   \n",
       "1                             Ridge  3.267706e+09    0.7713   \n",
       "2                             Lasso  3.267373e+09    0.7713   \n",
       "3             RandomForestRegressor  3.195855e+09    0.7812   \n",
       "4  Polynomial Regression (degree=2)  3.309900e+09    0.7653   \n",
       "\n",
       "   RMSE (Cross-Validation)  \n",
       "0             3.957264e+09  \n",
       "1             3.956825e+09  \n",
       "2             3.957264e+09  \n",
       "3             3.876985e+09  \n",
       "4             3.957264e+09  "
      ]
     },
     "execution_count": 72,
     "metadata": {},
     "output_type": "execute_result"
    }
   ],
   "source": [
    "models"
   ]
  },
  {
   "cell_type": "code",
   "execution_count": null,
   "id": "6921a038-881f-4057-8927-12fe7f49412f",
   "metadata": {},
   "outputs": [],
   "source": []
  },
  {
   "cell_type": "code",
   "execution_count": null,
   "id": "bedc6527-3501-4a60-9a6e-64f9328d7e55",
   "metadata": {},
   "outputs": [],
   "source": []
  },
  {
   "cell_type": "code",
   "execution_count": null,
   "id": "941fc948-b536-454d-a6dd-5ee4468d928c",
   "metadata": {},
   "outputs": [],
   "source": []
  },
  {
   "cell_type": "code",
   "execution_count": null,
   "id": "a2fcf16a-d76a-444f-a209-7c44d9f6a765",
   "metadata": {},
   "outputs": [],
   "source": []
  }
 ],
 "metadata": {
  "kernelspec": {
   "display_name": "Python 3 (ipykernel)",
   "language": "python",
   "name": "python3"
  },
  "language_info": {
   "codemirror_mode": {
    "name": "ipython",
    "version": 3
   },
   "file_extension": ".py",
   "mimetype": "text/x-python",
   "name": "python",
   "nbconvert_exporter": "python",
   "pygments_lexer": "ipython3",
   "version": "3.9.7"
  },
  "papermill": {
   "default_parameters": {},
   "duration": 106.517994,
   "end_time": "2022-01-07T14:53:58.655218",
   "environment_variables": {},
   "exception": null,
   "input_path": "__notebook__.ipynb",
   "output_path": "__notebook__.ipynb",
   "parameters": {},
   "start_time": "2022-01-07T14:52:12.137224",
   "version": "2.3.3"
  }
 },
 "nbformat": 4,
 "nbformat_minor": 5
}
