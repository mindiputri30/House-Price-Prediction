{
 "cells": [
  {
   "cell_type": "markdown",
   "id": "37af21bb",
   "metadata": {
    "papermill": {
     "duration": 0.043777,
     "end_time": "2022-01-07T14:52:22.488178",
     "exception": false,
     "start_time": "2022-01-07T14:52:22.444401",
     "status": "completed"
    },
    "tags": []
   },
   "source": [
    "<center><h1 style=\"font-size:35px; font-family: 'Times New Roman'; letter-spacing: 0.1em;\">House Price Prediction 🏡</h1></center>"
   ]
  },
  {
   "cell_type": "markdown",
   "id": "95ebcff7",
   "metadata": {
    "papermill": {
     "duration": 0.041518,
     "end_time": "2022-01-07T14:52:22.572186",
     "exception": false,
     "start_time": "2022-01-07T14:52:22.530668",
     "status": "completed"
    },
    "tags": []
   },
   "source": [
    "<center><img src=\"https://images.unsplash.com/photo-1516156008625-3a9d6067fab5?ixlib=rb-1.2.1&ixid=MnwxMjA3fDB8MHxwaG90by1wYWdlfHx8fGVufDB8fHx8&auto=format&fit=crop&w=870&q=80\"></center>"
   ]
  },
  {
   "cell_type": "markdown",
   "id": "6874a7d8",
   "metadata": {
    "papermill": {
     "duration": 0.042066,
     "end_time": "2022-01-07T14:52:22.827026",
     "exception": false,
     "start_time": "2022-01-07T14:52:22.784960",
     "status": "completed"
    },
    "tags": []
   },
   "source": [
    "<h1 style=\"font-family: 'Times New Roman'; letter-spacing: 0.08em;\">Importing the Essential Libraries, Metrics</h1>"
   ]
  },
  {
   "cell_type": "code",
   "execution_count": 1,
   "id": "5f6d09dc",
   "metadata": {
    "_cell_guid": "b1076dfc-b9ad-4769-8c92-a6c4dae69d19",
    "_uuid": "8f2839f25d086af736a60e9eeb907d3b93b6e0e5",
    "papermill": {
     "duration": 1.598972,
     "end_time": "2022-01-07T14:52:24.469221",
     "exception": false,
     "start_time": "2022-01-07T14:52:22.870249",
     "status": "completed"
    },
    "tags": []
   },
   "outputs": [],
   "source": [
    "import numpy as np\n",
    "import pandas as pd\n",
    "import seaborn as sns\n",
    "import matplotlib.pyplot as plt\n",
    "import warnings\n",
    "warnings.filterwarnings(\"ignore\")\n",
    "\n",
    "from sklearn.model_selection import train_test_split, cross_val_score\n",
    "from sklearn.preprocessing import StandardScaler\n",
    "from sklearn.metrics import r2_score, mean_absolute_error, mean_squared_error\n",
    "\n",
    "from sklearn.linear_model import LinearRegression\n",
    "from sklearn.linear_model import Ridge\n",
    "from sklearn.linear_model import Lasso\n",
    "from sklearn.ensemble import RandomForestRegressor\n",
    "from sklearn.preprocessing import PolynomialFeatures"
   ]
  },
  {
   "cell_type": "markdown",
   "id": "e61a9667",
   "metadata": {
    "papermill": {
     "duration": 0.041668,
     "end_time": "2022-01-07T14:52:24.554273",
     "exception": false,
     "start_time": "2022-01-07T14:52:24.512605",
     "status": "completed"
    },
    "tags": []
   },
   "source": [
    "<h1 style=\"font-family: 'Times New Roman'; letter-spacing: 0.08em;\">Loading the Data</h1>"
   ]
  },
  {
   "cell_type": "code",
   "execution_count": 6,
   "id": "4e34fe16",
   "metadata": {
    "papermill": {
     "duration": 0.097778,
     "end_time": "2022-01-07T14:52:24.693909",
     "exception": false,
     "start_time": "2022-01-07T14:52:24.596131",
     "status": "completed"
    },
    "tags": []
   },
   "outputs": [],
   "source": [
    "df = pd.read_csv(\"data.csv\")"
   ]
  },
  {
   "cell_type": "markdown",
   "id": "41fd4bbb",
   "metadata": {
    "papermill": {
     "duration": 0.042834,
     "end_time": "2022-01-07T14:52:24.780980",
     "exception": false,
     "start_time": "2022-01-07T14:52:24.738146",
     "status": "completed"
    },
    "tags": []
   },
   "source": [
    "<h1 style=\"font-family: 'Times New Roman'; letter-spacing: 0.08em;\">Exploratory Data Analysis</h1>"
   ]
  },
  {
   "cell_type": "markdown",
   "id": "04a36b0b",
   "metadata": {
    "papermill": {
     "duration": 0.044086,
     "end_time": "2022-01-07T14:52:24.867536",
     "exception": false,
     "start_time": "2022-01-07T14:52:24.823450",
     "status": "completed"
    },
    "tags": []
   },
   "source": [
    "***Taking a look at the first 5 rows of the dataset***"
   ]
  },
  {
   "cell_type": "code",
   "execution_count": 7,
   "id": "2414310c",
   "metadata": {
    "papermill": {
     "duration": 0.087441,
     "end_time": "2022-01-07T14:52:24.998345",
     "exception": false,
     "start_time": "2022-01-07T14:52:24.910904",
     "status": "completed"
    },
    "tags": []
   },
   "outputs": [
    {
     "data": {
      "text/html": [
       "<div>\n",
       "<style scoped>\n",
       "    .dataframe tbody tr th:only-of-type {\n",
       "        vertical-align: middle;\n",
       "    }\n",
       "\n",
       "    .dataframe tbody tr th {\n",
       "        vertical-align: top;\n",
       "    }\n",
       "\n",
       "    .dataframe thead th {\n",
       "        text-align: right;\n",
       "    }\n",
       "</style>\n",
       "<table border=\"1\" class=\"dataframe\">\n",
       "  <thead>\n",
       "    <tr style=\"text-align: right;\">\n",
       "      <th></th>\n",
       "      <th>Jumlah Kamar Tidur</th>\n",
       "      <th>Jumlah Kamar Mandi</th>\n",
       "      <th>Luas Bangunan</th>\n",
       "      <th>Luas Tanah</th>\n",
       "      <th>Harga</th>\n",
       "    </tr>\n",
       "  </thead>\n",
       "  <tbody>\n",
       "    <tr>\n",
       "      <th>0</th>\n",
       "      <td>7</td>\n",
       "      <td>4</td>\n",
       "      <td>300.0</td>\n",
       "      <td>270.0</td>\n",
       "      <td>Rp 1.500.000.000</td>\n",
       "    </tr>\n",
       "    <tr>\n",
       "      <th>1</th>\n",
       "      <td>2</td>\n",
       "      <td>1</td>\n",
       "      <td>36.0</td>\n",
       "      <td>98.0</td>\n",
       "      <td>Rp 355.500.000</td>\n",
       "    </tr>\n",
       "    <tr>\n",
       "      <th>2</th>\n",
       "      <td>3</td>\n",
       "      <td>2</td>\n",
       "      <td>200.0</td>\n",
       "      <td>300.0</td>\n",
       "      <td>Rp 800.000.000</td>\n",
       "    </tr>\n",
       "    <tr>\n",
       "      <th>3</th>\n",
       "      <td>2</td>\n",
       "      <td>1</td>\n",
       "      <td>40.0</td>\n",
       "      <td>175.0</td>\n",
       "      <td>Rp 800.000.000</td>\n",
       "    </tr>\n",
       "    <tr>\n",
       "      <th>4</th>\n",
       "      <td>2</td>\n",
       "      <td>1</td>\n",
       "      <td>62.0</td>\n",
       "      <td>97.5</td>\n",
       "      <td>Rp 475.000.000</td>\n",
       "    </tr>\n",
       "    <tr>\n",
       "      <th>...</th>\n",
       "      <td>...</td>\n",
       "      <td>...</td>\n",
       "      <td>...</td>\n",
       "      <td>...</td>\n",
       "      <td>...</td>\n",
       "    </tr>\n",
       "    <tr>\n",
       "      <th>595</th>\n",
       "      <td>2</td>\n",
       "      <td>1</td>\n",
       "      <td>27.0</td>\n",
       "      <td>72.0</td>\n",
       "      <td>Rp 168.000.000</td>\n",
       "    </tr>\n",
       "    <tr>\n",
       "      <th>596</th>\n",
       "      <td>4</td>\n",
       "      <td>3</td>\n",
       "      <td>470.0</td>\n",
       "      <td>529.0</td>\n",
       "      <td>Rp 3.000.000.000</td>\n",
       "    </tr>\n",
       "    <tr>\n",
       "      <th>597</th>\n",
       "      <td>5</td>\n",
       "      <td>5</td>\n",
       "      <td>240.0</td>\n",
       "      <td>280.0</td>\n",
       "      <td>Rp 2.300.000.000</td>\n",
       "    </tr>\n",
       "    <tr>\n",
       "      <th>598</th>\n",
       "      <td>2</td>\n",
       "      <td>1</td>\n",
       "      <td>45.0</td>\n",
       "      <td>100.0</td>\n",
       "      <td>Rp 450.000.000</td>\n",
       "    </tr>\n",
       "    <tr>\n",
       "      <th>599</th>\n",
       "      <td>3</td>\n",
       "      <td>2</td>\n",
       "      <td>60.0</td>\n",
       "      <td>108.0</td>\n",
       "      <td>Rp 185.000.000</td>\n",
       "    </tr>\n",
       "  </tbody>\n",
       "</table>\n",
       "<p>600 rows × 5 columns</p>\n",
       "</div>"
      ],
      "text/plain": [
       "     Jumlah Kamar Tidur  Jumlah Kamar Mandi  Luas Bangunan  Luas Tanah   \n",
       "0                     7                   4          300.0       270.0  \\\n",
       "1                     2                   1           36.0        98.0   \n",
       "2                     3                   2          200.0       300.0   \n",
       "3                     2                   1           40.0       175.0   \n",
       "4                     2                   1           62.0        97.5   \n",
       "..                  ...                 ...            ...         ...   \n",
       "595                   2                   1           27.0        72.0   \n",
       "596                   4                   3          470.0       529.0   \n",
       "597                   5                   5          240.0       280.0   \n",
       "598                   2                   1           45.0       100.0   \n",
       "599                   3                   2           60.0       108.0   \n",
       "\n",
       "                Harga  \n",
       "0    Rp 1.500.000.000  \n",
       "1      Rp 355.500.000  \n",
       "2      Rp 800.000.000  \n",
       "3      Rp 800.000.000  \n",
       "4      Rp 475.000.000  \n",
       "..                ...  \n",
       "595    Rp 168.000.000  \n",
       "596  Rp 3.000.000.000  \n",
       "597  Rp 2.300.000.000  \n",
       "598    Rp 450.000.000  \n",
       "599    Rp 185.000.000  \n",
       "\n",
       "[600 rows x 5 columns]"
      ]
     },
     "execution_count": 7,
     "metadata": {},
     "output_type": "execute_result"
    }
   ],
   "source": [
    "df"
   ]
  },
  {
   "cell_type": "markdown",
   "id": "516c7384",
   "metadata": {
    "papermill": {
     "duration": 0.042852,
     "end_time": "2022-01-07T14:52:25.085983",
     "exception": false,
     "start_time": "2022-01-07T14:52:25.043131",
     "status": "completed"
    },
    "tags": []
   },
   "source": [
    "***Checking the shape—i.e. size—of the data***"
   ]
  },
  {
   "cell_type": "code",
   "execution_count": null,
   "id": "3a4390d8",
   "metadata": {
    "papermill": {
     "duration": 0.052437,
     "end_time": "2022-01-07T14:52:25.181575",
     "exception": false,
     "start_time": "2022-01-07T14:52:25.129138",
     "status": "completed"
    },
    "tags": []
   },
   "outputs": [],
   "source": [
    "df.shape"
   ]
  },
  {
   "cell_type": "markdown",
   "id": "70695842",
   "metadata": {
    "papermill": {
     "duration": 0.043403,
     "end_time": "2022-01-07T14:52:25.268687",
     "exception": false,
     "start_time": "2022-01-07T14:52:25.225284",
     "status": "completed"
    },
    "tags": []
   },
   "source": [
    "***Learning the dtypes of columns' and how many non-null values are there in those columns***"
   ]
  },
  {
   "cell_type": "code",
   "execution_count": null,
   "id": "7b32ae31",
   "metadata": {
    "papermill": {
     "duration": 0.084564,
     "end_time": "2022-01-07T14:52:25.396651",
     "exception": false,
     "start_time": "2022-01-07T14:52:25.312087",
     "status": "completed"
    },
    "tags": []
   },
   "outputs": [],
   "source": [
    "df.info()"
   ]
  },
  {
   "cell_type": "markdown",
   "id": "236aa98a",
   "metadata": {
    "papermill": {
     "duration": 0.043514,
     "end_time": "2022-01-07T14:52:25.483769",
     "exception": false,
     "start_time": "2022-01-07T14:52:25.440255",
     "status": "completed"
    },
    "tags": []
   },
   "source": [
    "***Getting the statistical summary of dataset***"
   ]
  },
  {
   "cell_type": "code",
   "execution_count": null,
   "id": "e9c60632",
   "metadata": {
    "papermill": {
     "duration": 0.155369,
     "end_time": "2022-01-07T14:52:25.684061",
     "exception": false,
     "start_time": "2022-01-07T14:52:25.528692",
     "status": "completed"
    },
    "tags": []
   },
   "outputs": [],
   "source": [
    "df.describe().T"
   ]
  },
  {
   "cell_type": "markdown",
   "id": "f6673694",
   "metadata": {
    "papermill": {
     "duration": 0.0465,
     "end_time": "2022-01-07T14:52:27.282302",
     "exception": false,
     "start_time": "2022-01-07T14:52:27.235802",
     "status": "completed"
    },
    "tags": []
   },
   "source": [
    "***Checking for the missing values***"
   ]
  },
  {
   "cell_type": "code",
   "execution_count": null,
   "id": "b3ad493a",
   "metadata": {
    "papermill": {
     "duration": 0.064672,
     "end_time": "2022-01-07T14:52:27.394368",
     "exception": false,
     "start_time": "2022-01-07T14:52:27.329696",
     "status": "completed"
    },
    "tags": []
   },
   "outputs": [],
   "source": [
    "print(\"Missing Values by Column\")\n",
    "print(\"-\"*30)\n",
    "print(df.isna().sum())\n",
    "print(\"-\"*30)\n",
    "print(\"TOTAL MISSING VALUES:\", df.isna().sum().sum())"
   ]
  },
  {
   "cell_type": "markdown",
   "id": "c7ad83c4",
   "metadata": {
    "papermill": {
     "duration": 0.101908,
     "end_time": "2022-01-07T14:53:11.236310",
     "exception": false,
     "start_time": "2022-01-07T14:53:11.134402",
     "status": "completed"
    },
    "tags": []
   },
   "source": [
    "<h1 style=\"font-family: 'Times New Roman'; letter-spacing: 0.08em;\">X, y Split</h1>"
   ]
  },
  {
   "cell_type": "markdown",
   "id": "1f41b275",
   "metadata": {
    "papermill": {
     "duration": 0.101341,
     "end_time": "2022-01-07T14:53:11.439144",
     "exception": false,
     "start_time": "2022-01-07T14:53:11.337803",
     "status": "completed"
    },
    "tags": []
   },
   "source": [
    "***Splitting the data into X and y chunks***"
   ]
  },
  {
   "cell_type": "code",
   "execution_count": null,
   "id": "ac825bef",
   "metadata": {
    "papermill": {
     "duration": 0.111491,
     "end_time": "2022-01-07T14:53:11.652319",
     "exception": false,
     "start_time": "2022-01-07T14:53:11.540828",
     "status": "completed"
    },
    "tags": []
   },
   "outputs": [],
   "source": [
    "X = df.drop([\"NO\", \"NAMA RUMAH\", \"HARGA\"], axis=1)\n",
    "y = df[\"HARGA\"]"
   ]
  },
  {
   "cell_type": "markdown",
   "id": "5c23c6f5",
   "metadata": {
    "papermill": {
     "duration": 0.103223,
     "end_time": "2022-01-07T14:53:12.496731",
     "exception": false,
     "start_time": "2022-01-07T14:53:12.393508",
     "status": "completed"
    },
    "tags": []
   },
   "source": [
    "<h1 style=\"font-family: 'Times New Roman'; letter-spacing: 0.08em;\">Standardizing the Data</h1>"
   ]
  },
  {
   "cell_type": "markdown",
   "id": "cd239272",
   "metadata": {
    "papermill": {
     "duration": 0.102248,
     "end_time": "2022-01-07T14:53:12.702016",
     "exception": false,
     "start_time": "2022-01-07T14:53:12.599768",
     "status": "completed"
    },
    "tags": []
   },
   "source": [
    "***Standardizing the numerical columns in X dataset. StandardScaler() adjusts the mean of the features as 0 and standard deviation of features as 1. Formula that StandardScaler() uses is as follows:***"
   ]
  },
  {
   "cell_type": "markdown",
   "id": "943897e1",
   "metadata": {
    "papermill": {
     "duration": 0.106209,
     "end_time": "2022-01-07T14:53:12.910212",
     "exception": false,
     "start_time": "2022-01-07T14:53:12.804003",
     "status": "completed"
    },
    "tags": []
   },
   "source": [
    "<center><img width=\"300px\" src=\"https://www.thoughtco.com/thmb/gItmqGd5HlnhyPIiLm1YHXOlTnw=/330x242/filters:fill(auto,1)/zscore-56a8fa785f9b58b7d0f6e87b.GIF\"></center>"
   ]
  },
  {
   "cell_type": "code",
   "execution_count": null,
   "id": "4ab78b65",
   "metadata": {
    "papermill": {
     "duration": 0.120475,
     "end_time": "2022-01-07T14:53:13.137818",
     "exception": false,
     "start_time": "2022-01-07T14:53:13.017343",
     "status": "completed"
    },
    "tags": []
   },
   "outputs": [],
   "source": [
    "scaler = StandardScaler()\n",
    "X = scaler.fit_transform(X)"
   ]
  },
  {
   "cell_type": "code",
   "execution_count": null,
   "id": "4ba7368d-26ab-4b1c-a0c6-959d9a7e9228",
   "metadata": {},
   "outputs": [],
   "source": [
    "X"
   ]
  },
  {
   "cell_type": "code",
   "execution_count": null,
   "id": "a923730f-2cd0-40ae-86fe-a20b9707d5e8",
   "metadata": {},
   "outputs": [],
   "source": [
    "X_df = pd.DataFrame(X)\n",
    "\n",
    "X_df.columns = ['LB', 'LT', 'KT', 'KM', 'GRS']\n",
    "X_df"
   ]
  },
  {
   "cell_type": "markdown",
   "id": "cbb4c637",
   "metadata": {
    "papermill": {
     "duration": 0.10743,
     "end_time": "2022-01-07T14:53:13.812158",
     "exception": false,
     "start_time": "2022-01-07T14:53:13.704728",
     "status": "completed"
    },
    "tags": []
   },
   "source": [
    "<h1 style=\"font-family: 'Times New Roman'; letter-spacing: 0.08em;\">Train-Test Split</h1>"
   ]
  },
  {
   "cell_type": "code",
   "execution_count": null,
   "id": "a7fb6519",
   "metadata": {
    "papermill": {
     "duration": 0.117592,
     "end_time": "2022-01-07T14:53:14.246227",
     "exception": false,
     "start_time": "2022-01-07T14:53:14.128635",
     "status": "completed"
    },
    "tags": []
   },
   "outputs": [],
   "source": [
    "X_train, X_test, y_train, y_test = train_test_split(X, y, test_size=0.2, random_state=42)"
   ]
  },
  {
   "cell_type": "markdown",
   "id": "cbadb641",
   "metadata": {
    "papermill": {
     "duration": 0.10377,
     "end_time": "2022-01-07T14:53:14.453616",
     "exception": false,
     "start_time": "2022-01-07T14:53:14.349846",
     "status": "completed"
    },
    "tags": []
   },
   "source": [
    "***Defining several evaluation functions for convenience***"
   ]
  },
  {
   "cell_type": "code",
   "execution_count": null,
   "id": "c670aec2",
   "metadata": {
    "papermill": {
     "duration": 0.115217,
     "end_time": "2022-01-07T14:53:14.672327",
     "exception": false,
     "start_time": "2022-01-07T14:53:14.557110",
     "status": "completed"
    },
    "tags": []
   },
   "outputs": [],
   "source": [
    "def rmse_cv(model):\n",
    "    rmse = np.sqrt(-cross_val_score(model, X, y, scoring=\"neg_mean_squared_error\", cv=5)).mean()\n",
    "    return rmse\n",
    "    \n",
    "\n",
    "def evaluation(y, predictions):\n",
    "    rmse = round(np.sqrt(mean_squared_error(y, predictions)), 2)\n",
    "    r_squared = round(r2_score(y, predictions), 4)\n",
    "    return rmse, r_squared"
   ]
  },
  {
   "cell_type": "markdown",
   "id": "af18ea59",
   "metadata": {
    "papermill": {
     "duration": 0.103812,
     "end_time": "2022-01-07T14:53:14.880559",
     "exception": false,
     "start_time": "2022-01-07T14:53:14.776747",
     "status": "completed"
    },
    "tags": []
   },
   "source": [
    "<h1 style=\"font-family: 'Times New Roman'; letter-spacing: 0.08em;\">Machine Learning Models</h1>"
   ]
  },
  {
   "cell_type": "code",
   "execution_count": null,
   "id": "715304cf",
   "metadata": {
    "papermill": {
     "duration": 0.118597,
     "end_time": "2022-01-07T14:53:15.107485",
     "exception": false,
     "start_time": "2022-01-07T14:53:14.988888",
     "status": "completed"
    },
    "tags": []
   },
   "outputs": [],
   "source": [
    "models = pd.DataFrame(columns=[\"Model\",\"RMSE\",\"R2 Score\",\"RMSE (Cross-Validation)\"])"
   ]
  },
  {
   "cell_type": "markdown",
   "id": "ae0194fa",
   "metadata": {
    "papermill": {
     "duration": 0.108867,
     "end_time": "2022-01-07T14:53:15.322909",
     "exception": false,
     "start_time": "2022-01-07T14:53:15.214042",
     "status": "completed"
    },
    "tags": []
   },
   "source": [
    "<h2 style=\"font-family: 'Times New Roman'; letter-spacing: 0.05em;\">Linear Regression</h2>"
   ]
  },
  {
   "cell_type": "code",
   "execution_count": null,
   "id": "e3958e72",
   "metadata": {
    "papermill": {
     "duration": 0.203309,
     "end_time": "2022-01-07T14:53:15.634247",
     "exception": false,
     "start_time": "2022-01-07T14:53:15.430938",
     "status": "completed"
    },
    "tags": []
   },
   "outputs": [],
   "source": [
    "lin_reg = LinearRegression()\n",
    "lin_reg.fit(X_train, y_train)\n",
    "predictions = lin_reg.predict(X_test)\n",
    "\n",
    "rmse, r_squared = evaluation(y_test, predictions)\n",
    "print(\"RMSE:\", rmse)\n",
    "print(\"R2 Score:\", r_squared)\n",
    "print(\"-\"*30)\n",
    "rmse_cross_val = rmse_cv(lin_reg)\n",
    "print(\"RMSE Cross-Validation:\", rmse_cross_val)\n",
    "\n",
    "new_row = {\"Model\": \"MultipleLinearRegression\",\"RMSE\": rmse, \"R2 Score\": r_squared, \"RMSE (Cross-Validation)\": rmse_cross_val}\n",
    "models = models.append(new_row, ignore_index=True)"
   ]
  },
  {
   "cell_type": "markdown",
   "id": "69e2cf24",
   "metadata": {
    "papermill": {
     "duration": 0.108289,
     "end_time": "2022-01-07T14:53:15.904370",
     "exception": false,
     "start_time": "2022-01-07T14:53:15.796081",
     "status": "completed"
    },
    "tags": []
   },
   "source": [
    "<h2 style=\"font-family: 'Times New Roman'; letter-spacing: 0.05em;\">Ridge Regression</h2>"
   ]
  },
  {
   "cell_type": "code",
   "execution_count": null,
   "id": "a0095af1",
   "metadata": {
    "papermill": {
     "duration": 0.192599,
     "end_time": "2022-01-07T14:53:16.203172",
     "exception": false,
     "start_time": "2022-01-07T14:53:16.010573",
     "status": "completed"
    },
    "tags": []
   },
   "outputs": [],
   "source": [
    "ridge = Ridge()\n",
    "ridge.fit(X_train, y_train)\n",
    "predictions = ridge.predict(X_test)\n",
    "\n",
    "rmse, r_squared = evaluation(y_test, predictions)\n",
    "print(\"RMSE:\", rmse)\n",
    "print(\"R2 Score:\", r_squared)\n",
    "print(\"-\"*30)\n",
    "rmse_cross_val = rmse_cv(ridge)\n",
    "print(\"RMSE Cross-Validation:\", rmse_cross_val)\n",
    "\n",
    "new_row = {\"Model\": \"Ridge\", \"RMSE\": rmse, \"R2 Score\": r_squared, \"RMSE (Cross-Validation)\": rmse_cross_val}\n",
    "models = models.append(new_row, ignore_index=True)"
   ]
  },
  {
   "cell_type": "markdown",
   "id": "b61ddb50",
   "metadata": {
    "papermill": {
     "duration": 0.103788,
     "end_time": "2022-01-07T14:53:16.470822",
     "exception": false,
     "start_time": "2022-01-07T14:53:16.367034",
     "status": "completed"
    },
    "tags": []
   },
   "source": [
    "<h2 style=\"font-family: 'Times New Roman'; letter-spacing: 0.05em;\">Lasso Regression</h2>"
   ]
  },
  {
   "cell_type": "code",
   "execution_count": null,
   "id": "b1d9c1e2",
   "metadata": {
    "papermill": {
     "duration": 0.383321,
     "end_time": "2022-01-07T14:53:16.989364",
     "exception": false,
     "start_time": "2022-01-07T14:53:16.606043",
     "status": "completed"
    },
    "tags": []
   },
   "outputs": [],
   "source": [
    "lasso = Lasso()\n",
    "lasso.fit(X_train, y_train)\n",
    "predictions = lasso.predict(X_test)\n",
    "\n",
    "rmse, r_squared = evaluation(y_test, predictions)\n",
    "print(\"RMSE:\", rmse)\n",
    "print(\"R2 Score:\", r_squared)\n",
    "print(\"-\"*30)\n",
    "rmse_cross_val = rmse_cv(lasso)\n",
    "print(\"RMSE Cross-Validation:\", rmse_cross_val)\n",
    "\n",
    "new_row = {\"Model\": \"Lasso\", \"RMSE\": rmse, \"R2 Score\": r_squared, \"RMSE (Cross-Validation)\": rmse_cross_val}\n",
    "models = models.append(new_row, ignore_index=True)"
   ]
  },
  {
   "cell_type": "markdown",
   "id": "948891cb",
   "metadata": {
    "papermill": {
     "duration": 0.108617,
     "end_time": "2022-01-07T14:53:20.300130",
     "exception": false,
     "start_time": "2022-01-07T14:53:20.191513",
     "status": "completed"
    },
    "tags": []
   },
   "source": [
    "<h2 style=\"font-family: 'Times New Roman'; letter-spacing: 0.05em;\">Random Forest Regressor</h2>"
   ]
  },
  {
   "cell_type": "code",
   "execution_count": null,
   "id": "241cd041",
   "metadata": {
    "papermill": {
     "duration": 5.233481,
     "end_time": "2022-01-07T14:53:25.642200",
     "exception": false,
     "start_time": "2022-01-07T14:53:20.408719",
     "status": "completed"
    },
    "tags": []
   },
   "outputs": [],
   "source": [
    "random_forest = RandomForestRegressor(n_estimators=100)\n",
    "random_forest.fit(X_train, y_train)\n",
    "predictions = random_forest.predict(X_test)\n",
    "\n",
    "rmse, r_squared = evaluation(y_test, predictions)\n",
    "print(\"RMSE:\", rmse)\n",
    "print(\"R2 Score:\", r_squared)\n",
    "print(\"-\"*30)\n",
    "rmse_cross_val = rmse_cv(random_forest)\n",
    "print(\"RMSE Cross-Validation:\", rmse_cross_val)\n",
    "\n",
    "new_row = {\"Model\": \"RandomForestRegressor\", \"RMSE\": rmse, \"R2 Score\": r_squared, \"RMSE (Cross-Validation)\": rmse_cross_val}\n",
    "models = models.append(new_row, ignore_index=True)"
   ]
  },
  {
   "cell_type": "markdown",
   "id": "01268a36",
   "metadata": {
    "papermill": {
     "duration": 0.111065,
     "end_time": "2022-01-07T14:53:55.032337",
     "exception": false,
     "start_time": "2022-01-07T14:53:54.921272",
     "status": "completed"
    },
    "tags": []
   },
   "source": [
    "<h2 style=\"font-family: 'Times New Roman'; letter-spacing: 0.05em;\">Polynomial Regression (Degree=2)</h2>"
   ]
  },
  {
   "cell_type": "code",
   "execution_count": null,
   "id": "60f64143",
   "metadata": {
    "papermill": {
     "duration": 0.563133,
     "end_time": "2022-01-07T14:53:55.705916",
     "exception": false,
     "start_time": "2022-01-07T14:53:55.142783",
     "status": "completed"
    },
    "tags": []
   },
   "outputs": [],
   "source": [
    "poly_reg = PolynomialFeatures(degree=2)\n",
    "X_train_2d = poly_reg.fit_transform(X_train)\n",
    "X_test_2d = poly_reg.transform(X_test)\n",
    "\n",
    "lin_reg = LinearRegression()\n",
    "lin_reg.fit(X_train_2d, y_train)\n",
    "predictions = lin_reg.predict(X_test_2d)\n",
    "\n",
    "rmse, r_squared = evaluation(y_test, predictions)\n",
    "print(\"RMSE:\", rmse)\n",
    "print(\"R2 Score:\", r_squared)\n",
    "print(\"-\"*30)\n",
    "rmse_cross_val = rmse_cv(lin_reg)\n",
    "print(\"RMSE Cross-Validation:\", rmse_cross_val)\n",
    "\n",
    "new_row = {\"Model\": \"Polynomial Regression (degree=2)\", \"RMSE\": rmse, \"R2 Score\": r_squared, \"RMSE (Cross-Validation)\": rmse_cross_val}\n",
    "models = models.append(new_row, ignore_index=True)"
   ]
  },
  {
   "cell_type": "markdown",
   "id": "95a4f5b1",
   "metadata": {
    "papermill": {
     "duration": 0.110909,
     "end_time": "2022-01-07T14:53:55.982058",
     "exception": false,
     "start_time": "2022-01-07T14:53:55.871149",
     "status": "completed"
    },
    "tags": []
   },
   "source": [
    "<h1 style=\"font-family: 'Times New Roman'; letter-spacing: 0.08em;\">Model Comparison</h1>"
   ]
  },
  {
   "cell_type": "markdown",
   "id": "5d3d9d60",
   "metadata": {
    "papermill": {
     "duration": 0.109875,
     "end_time": "2022-01-07T14:53:56.205726",
     "exception": false,
     "start_time": "2022-01-07T14:53:56.095851",
     "status": "completed"
    },
    "tags": []
   },
   "source": [
    "***The less the Root Mean Squared Error (RMSE), The better the model is.***"
   ]
  },
  {
   "cell_type": "code",
   "execution_count": null,
   "id": "da432aa2",
   "metadata": {
    "papermill": {
     "duration": 0.129669,
     "end_time": "2022-01-07T14:53:56.445518",
     "exception": false,
     "start_time": "2022-01-07T14:53:56.315849",
     "status": "completed"
    },
    "tags": []
   },
   "outputs": [],
   "source": [
    "models.sort_values(by=\"RMSE (Cross-Validation)\")"
   ]
  },
  {
   "cell_type": "code",
   "execution_count": null,
   "id": "05d6b92f",
   "metadata": {
    "papermill": {
     "duration": 0.345524,
     "end_time": "2022-01-07T14:53:56.902762",
     "exception": false,
     "start_time": "2022-01-07T14:53:56.557238",
     "status": "completed"
    },
    "tags": []
   },
   "outputs": [],
   "source": [
    "plt.figure(figsize=(12,8))\n",
    "sns.lineplot(data= models, x=\"Model\", y=\"RMSE (Cross-Validation)\")\n",
    "plt.title(\"Models' RMSE Scores (Cross-Validated)\", size=20)\n",
    "plt.xticks(rotation=30, size=15)\n",
    "plt.yticks(rotation=30, size=15)\n",
    "plt.show()"
   ]
  },
  {
   "cell_type": "code",
   "execution_count": null,
   "id": "6443f7b5-c77f-4ef3-8fc0-139b5abf53fb",
   "metadata": {},
   "outputs": [],
   "source": [
    "plt.figure(figsize=(12,8))\n",
    "sns.lineplot(x=models[\"Model\"], y=models[\"RMSE\"])\n",
    "plt.title(\"Models' RMSE Scores\", size=15)\n",
    "plt.xticks(rotation=30, size=15)\n",
    "plt.yticks(rotation=30, size=15)\n",
    "plt.show()"
   ]
  },
  {
   "cell_type": "code",
   "execution_count": null,
   "id": "bd7205a8-5a47-4dcf-81c5-61e9482e503e",
   "metadata": {},
   "outputs": [],
   "source": [
    "plt.figure(figsize=(12,8))\n",
    "sns.lineplot(x=models[\"Model\"], y=models[\"R2 Score\"])\n",
    "plt.title(\"Models' R2 Scores\", size=15)\n",
    "plt.xticks(rotation=30, size=15)\n",
    "plt.yticks(rotation=30, size=15)\n",
    "plt.show()"
   ]
  },
  {
   "cell_type": "code",
   "execution_count": null,
   "id": "c94b0430-b2f0-4264-b68a-ee005c042536",
   "metadata": {},
   "outputs": [],
   "source": [
    "models"
   ]
  },
  {
   "cell_type": "code",
   "execution_count": null,
   "id": "6921a038-881f-4057-8927-12fe7f49412f",
   "metadata": {},
   "outputs": [],
   "source": []
  },
  {
   "cell_type": "code",
   "execution_count": null,
   "id": "bedc6527-3501-4a60-9a6e-64f9328d7e55",
   "metadata": {},
   "outputs": [],
   "source": []
  },
  {
   "cell_type": "code",
   "execution_count": null,
   "id": "941fc948-b536-454d-a6dd-5ee4468d928c",
   "metadata": {},
   "outputs": [],
   "source": []
  },
  {
   "cell_type": "code",
   "execution_count": null,
   "id": "a2fcf16a-d76a-444f-a209-7c44d9f6a765",
   "metadata": {},
   "outputs": [],
   "source": []
  }
 ],
 "metadata": {
  "kernelspec": {
   "display_name": "Python 3 (ipykernel)",
   "language": "python",
   "name": "python3"
  },
  "language_info": {
   "codemirror_mode": {
    "name": "ipython",
    "version": 3
   },
   "file_extension": ".py",
   "mimetype": "text/x-python",
   "name": "python",
   "nbconvert_exporter": "python",
   "pygments_lexer": "ipython3",
   "version": "3.9.6"
  },
  "papermill": {
   "default_parameters": {},
   "duration": 106.517994,
   "end_time": "2022-01-07T14:53:58.655218",
   "environment_variables": {},
   "exception": null,
   "input_path": "__notebook__.ipynb",
   "output_path": "__notebook__.ipynb",
   "parameters": {},
   "start_time": "2022-01-07T14:52:12.137224",
   "version": "2.3.3"
  }
 },
 "nbformat": 4,
 "nbformat_minor": 5
}
